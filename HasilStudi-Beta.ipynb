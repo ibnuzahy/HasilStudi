{
 "cells": [
  {
   "cell_type": "markdown",
   "metadata": {},
   "source": [
    "# Menghitung Nilai Mahasiswa"
   ]
  },
  {
   "cell_type": "code",
   "execution_count": 1,
   "metadata": {},
   "outputs": [
    {
     "name": "stdout",
     "output_type": "stream",
     "text": [
      "Daftar nilai mata kuliah : 4, 3.5, 3, 2.5, 2, 1, 0\n",
      "------------------------------\n",
      "Masukkan banyaknya mata kuliah: 8\n",
      "------------------------------\n",
      "Masukkan nilai mata kuliah ke-1: 2.75\n",
      "Masukkan jumlah sks mata kuliah ke-1: 3\n",
      "Masukkan nilai mata kuliah ke-2: 3.5\n",
      "Masukkan jumlah sks mata kuliah ke-2: 2\n",
      "Masukkan nilai mata kuliah ke-3: 4\n",
      "Masukkan jumlah sks mata kuliah ke-3: 3\n",
      "Masukkan nilai mata kuliah ke-4: 2\n",
      "Masukkan jumlah sks mata kuliah ke-4: 3\n",
      "Masukkan nilai mata kuliah ke-5: 3.75\n",
      "Masukkan jumlah sks mata kuliah ke-5: 3\n",
      "Masukkan nilai mata kuliah ke-6: 3.5\n",
      "Masukkan jumlah sks mata kuliah ke-6: 2\n",
      "Masukkan nilai mata kuliah ke-7: 3.75\n",
      "Masukkan jumlah sks mata kuliah ke-7: 3\n",
      "Masukkan nilai mata kuliah ke-8: 3.75\n",
      "Masukkan jumlah sks mata kuliah ke-8: 2\n",
      "------------------------------\n",
      "Daftar nilai mata kuliah yang dimasukkan: 2.75 3.5 4 2 3.75 3.5 3.75 3.75 \n",
      "Daftar jumlah sks mata kuliah yang dimasukkan: 3 2 3 3 3 2 3 2 \n",
      "------------------------------\n",
      "Indeks prestasi Anda adalah: 3.3452380952380953 \n"
     ]
    }
   ],
   "source": [
    "print(\"Daftar nilai mata kuliah : 4, 3.5, 3, 2.5, 2, 1, 0\")\n",
    "print(\"-\"*30)\n",
    "def HasilStudiBeta():\n",
    "    jumlah_matkul = int(input(\"Masukkan banyaknya mata kuliah: \"))\n",
    "    nilai_matkul = []\n",
    "    jumlah_sks = []\n",
    "    perkalian = []\n",
    "    jumlah_sks_2 = []\n",
    "    print(\"-\"*30)\n",
    "    \n",
    "    for i in range (jumlah_matkul):\n",
    "        nilai = eval(input(\"Masukkan nilai mata kuliah ke-{}: \".format(i+1)))\n",
    "        sks = eval(input(\"Masukkan jumlah sks mata kuliah ke-{}: \".format(i+1)))\n",
    "        nilai_matkul += [nilai]\n",
    "        jumlah_sks_2 += [sks]\n",
    "        \n",
    "        perkalian.append(nilai*sks)\n",
    "        jumlah_sks.append(sks)\n",
    "    print(\"-\"*30)\n",
    "    print(end=\"Daftar nilai mata kuliah yang dimasukkan: \")\n",
    "    for nilai in nilai_matkul:\n",
    "        print(nilai, end=\" \")\n",
    "    print()\n",
    "    \n",
    "    print(end=\"Daftar jumlah sks mata kuliah yang dimasukkan: \")\n",
    "    for sks in jumlah_sks_2:\n",
    "        print(sks, end=\" \")\n",
    "    print()\n",
    "    print(\"-\"*30)\n",
    "    \n",
    "    print(\"Indeks prestasi Anda adalah: {} \". format(sum(perkalian)/sum(jumlah_sks))) \n",
    "HasilStudiBeta()"
   ]
  },
  {
   "cell_type": "markdown",
   "metadata": {},
   "source": [
    "# ----------------------------------------------------------------------IBNU ZAHY ' ATHA ILLAH"
   ]
  }
 ],
 "metadata": {
  "kernelspec": {
   "display_name": "Python 3",
   "language": "python",
   "name": "python3"
  },
  "language_info": {
   "codemirror_mode": {
    "name": "ipython",
    "version": 3
   },
   "file_extension": ".py",
   "mimetype": "text/x-python",
   "name": "python",
   "nbconvert_exporter": "python",
   "pygments_lexer": "ipython3",
   "version": "3.8.3"
  }
 },
 "nbformat": 4,
 "nbformat_minor": 4
}
