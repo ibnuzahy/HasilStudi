{
 "cells": [
  {
   "cell_type": "markdown",
   "metadata": {},
   "source": [
    "## Menghitung IPS Mahasiswa dengan Inputan Nilai Angka (4, 3.5, 3, 2.5, 2, 1, dan 0)"
   ]
  },
  {
   "cell_type": "code",
   "execution_count": 1,
   "metadata": {},
   "outputs": [
    {
     "name": "stdout",
     "output_type": "stream",
     "text": [
      "Daftar nilai mata kuliah : 4, 3.5, 3, 2.5, 2, 1, 0 \n"
     ]
    },
    {
     "name": "stdin",
     "output_type": "stream",
     "text": [
      "Masukkan nilai mata kuliah 1 dalam konversi angka = 4\n",
      "Masukkan jumlah jam mata kuliah 1 = 2\n",
      "Masukkan nilai mata kuliah 2 dalam konversi angka = 2.5\n",
      "Masukkan jumlah jam mata kuliah 2 = 2\n",
      "Masukkan nilai mata kuliah 3 dalam konversi angka = 3\n",
      "Masukkan jumlah jam mata kuliah 3 = 3\n",
      "Masukkan nilai mata kuliah 4 dalam konversi angka = 3.5\n",
      "Masukkan jumlah jam mata kuliah 4 = 3\n",
      "Masukkan nilai mata kuliah 5 dalam konversi angka = 2\n",
      "Masukkan jumlah jam mata kuliah 5 = 3\n"
     ]
    },
    {
     "name": "stdout",
     "output_type": "stream",
     "text": [
      "2.9615384615384617\n"
     ]
    }
   ],
   "source": [
    "print(\"Daftar nilai mata kuliah : 4, 3.5, 3, 2.5, 2, 1, 0 \")\n",
    "matkul1=float(input(\"Masukkan nilai mata kuliah 1 dalam konversi angka =\"))\n",
    "jam1=float(input(\"Masukkan jumlah jam mata kuliah 1 =\"))\n",
    "matkul2=float(input(\"Masukkan nilai mata kuliah 2 dalam konversi angka =\"))\n",
    "jam2=float(input(\"Masukkan jumlah jam mata kuliah 2 =\"))\n",
    "matkul3=float(input(\"Masukkan nilai mata kuliah 3 dalam konversi angka =\"))\n",
    "jam3=float(input(\"Masukkan jumlah jam mata kuliah 3 =\"))\n",
    "matkul4=float(input(\"Masukkan nilai mata kuliah 4 dalam konversi angka =\"))\n",
    "jam4=float(input(\"Masukkan jumlah jam mata kuliah 4 =\"))\n",
    "matkul5=float(input(\"Masukkan nilai mata kuliah 5 dalam konversi angka =\"))\n",
    "jam5=float(input(\"Masukkan jumlah jam mata kuliah 5 =\"))\n",
    "jumlah_jam=jam1+jam2+jam3+jam4+jam5\n",
    "IPS=(matkul1*jam1+matkul2*jam2+matkul3*jam3+matkul4*jam4+matkul5*jam5)/jumlah_jam\n",
    "print(IPS)"
   ]
  },
  {
   "cell_type": "markdown",
   "metadata": {},
   "source": [
    "## Menghitung IPS Mahasiswa dengan Inputan Nilai Huruf (A, AB, B, BC, C, D, dan E)"
   ]
  },
  {
   "cell_type": "code",
   "execution_count": 11,
   "metadata": {
    "scrolled": true
   },
   "outputs": [
    {
     "name": "stdout",
     "output_type": "stream",
     "text": [
      "Daftar nilai mata kuliah : A, AB, B, BC, C, D, E \n"
     ]
    },
    {
     "name": "stdin",
     "output_type": "stream",
     "text": [
      "Masukkan nilai mata kuliah 1 dalam konversi huruf = A\n",
      "Masukkan jumlah jam mata kuliah 1 = 2\n",
      "Masukkan nilai mata kuliah 2 dalam konversi huruf = BC\n",
      "Masukkan jumlah jam mata kuliah 2 = 2\n",
      "Masukkan nilai mata kuliah 3 dalam konversi huruf = B\n",
      "Masukkan jumlah jam mata kuliah 3 = 3\n",
      "Masukkan nilai mata kuliah 4 dalam konversi huruf = AB\n",
      "Masukkan jumlah jam mata kuliah 4 = 3\n",
      "Masukkan nilai mata kuliah 5 dalam konversi huruf = C\n",
      "Masukkan jumlah jam mata kuliah 5 = 3\n"
     ]
    },
    {
     "name": "stdout",
     "output_type": "stream",
     "text": [
      "Nilai IPS adalah = 2.9615384615384617\n"
     ]
    }
   ],
   "source": [
    "print(\"Daftar nilai mata kuliah : A, AB, B, BC, C, D, E \")\n",
    "\n",
    "matkul1=str(input(\"Masukkan nilai mata kuliah 1 dalam konversi huruf =\"))\n",
    "nilai1=0\n",
    "matkul1=='A'\n",
    "if matkul1=='A':\n",
    "    nilai1=4\n",
    "elif matkul1=='AB':\n",
    "    nilai1=3.5\n",
    "elif matkul1=='B':\n",
    "    nilai1=3\n",
    "elif matkul1=='BC':\n",
    "    nilai1=2.5\n",
    "elif matkul1=='C':\n",
    "    nilai1=2\n",
    "elif matkul1=='D':\n",
    "    nilai1=1\n",
    "elif matkul1=='E':\n",
    "    nilai1=0\n",
    "jam1=float(input(\"Masukkan jumlah jam mata kuliah 1 =\"))\n",
    "\n",
    "matkul2=str(input(\"Masukkan nilai mata kuliah 2 dalam konversi huruf =\"))\n",
    "nilai2=0\n",
    "matkul2=='A'\n",
    "if matkul2=='A':\n",
    "    nilai2=4\n",
    "elif matkul2=='AB':\n",
    "    nilai2=3.5\n",
    "elif matkul2=='B':\n",
    "    nilai2=3\n",
    "elif matkul2=='BC':\n",
    "    nilai2=2.5\n",
    "elif matkul2=='C':\n",
    "    nilai2=2\n",
    "elif matkul2=='D':\n",
    "    nilai2=1\n",
    "elif matkul2=='E':\n",
    "    nilai2=0  \n",
    "jam2=float(input(\"Masukkan jumlah jam mata kuliah 2 =\"))\n",
    "\n",
    "matkul3=str(input(\"Masukkan nilai mata kuliah 3 dalam konversi huruf =\"))\n",
    "nilai3=0\n",
    "matkul3=='A'\n",
    "if matkul3=='A':\n",
    "    nilai3=4\n",
    "elif matkul3=='AB':\n",
    "    nilai3=3.5\n",
    "elif matkul3=='B':\n",
    "    nilai3=3\n",
    "elif matkul3=='BC':\n",
    "    nilai3=2.5\n",
    "elif matkul3=='C':\n",
    "    nilai3=2\n",
    "elif matkul3=='D':\n",
    "    nilai3=1\n",
    "elif matkul3=='E':\n",
    "    nilai3=0\n",
    "jam3=float(input(\"Masukkan jumlah jam mata kuliah 3 =\"))\n",
    "    \n",
    "matkul4=str(input(\"Masukkan nilai mata kuliah 4 dalam konversi huruf =\"))\n",
    "nilai4=0\n",
    "matkul4=='A'\n",
    "if matkul4=='A':\n",
    "    nilai4=4\n",
    "elif matkul4=='AB':\n",
    "    nilai4=3.5\n",
    "elif matkul4=='B':\n",
    "    nilai4=3\n",
    "elif matkul4=='BC':\n",
    "    nilai4=2.5\n",
    "elif matkul4=='C':\n",
    "    nilai4=2\n",
    "elif matkul4=='D':\n",
    "    nilai4=1\n",
    "elif matkul4=='E':\n",
    "    nilai4=0\n",
    "jam4=float(input(\"Masukkan jumlah jam mata kuliah 4 =\"))\n",
    "    \n",
    "matkul5=str(input(\"Masukkan nilai mata kuliah 5 dalam konversi huruf =\"))\n",
    "nilai5=0\n",
    "matkul5=='A'\n",
    "if matkul5=='A':\n",
    "    nilai5=4\n",
    "elif matkul5=='AB':\n",
    "    nilai5=3.5\n",
    "elif matkul5=='B':\n",
    "    nilai5=3\n",
    "elif matkul5=='BC':\n",
    "    nilai5=2.5\n",
    "elif matkul5=='C':\n",
    "    nilai5=2\n",
    "elif matkul5=='D':\n",
    "    nilai5=1\n",
    "else :\n",
    "    nilai5=0\n",
    "jam5=float(input(\"Masukkan jumlah jam mata kuliah 5 =\"))\n",
    "    \n",
    "jumlah_jam=jam1+jam2+jam3+jam4+jam5\n",
    "IPS=((nilai1*jam1)+(nilai2*jam2)+(nilai3*jam3)+(nilai4*jam4)+(nilai5*jam5))/jumlah_jam\n",
    "print(\"Nilai IPS adalah =\", IPS)"
   ]
  },
  {
   "cell_type": "markdown",
   "metadata": {},
   "source": [
    "## ----------------------------------------------------IBNU ZAHY' ATHA ILLAH"
   ]
  }
 ],
 "metadata": {
  "kernelspec": {
   "display_name": "Python 3",
   "language": "python",
   "name": "python3"
  },
  "language_info": {
   "codemirror_mode": {
    "name": "ipython",
    "version": 3
   },
   "file_extension": ".py",
   "mimetype": "text/x-python",
   "name": "python",
   "nbconvert_exporter": "python",
   "pygments_lexer": "ipython3",
   "version": "3.8.3"
  }
 },
 "nbformat": 4,
 "nbformat_minor": 4
}
